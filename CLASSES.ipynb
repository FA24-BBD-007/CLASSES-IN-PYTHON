{
 "cells": [
  {
   "cell_type": "code",
   "execution_count": null,
   "id": "51b214c2-60d7-43c8-a2ac-9c035b2de488",
   "metadata": {},
   "outputs": [],
   "source": [
    "# ADEENA BINT SALEEM\n",
    "# FA24-BBD-007"
   ]
  },
  {
   "cell_type": "code",
   "execution_count": 1,
   "id": "cb441cd8-0c52-411a-a24d-0f4c3f72071a",
   "metadata": {},
   "outputs": [
    {
     "name": "stdout",
     "output_type": "stream",
     "text": [
      "Circle area: 78.53975\n",
      "Rectangle area: 24\n",
      "Triangle area: 10.5\n"
     ]
    }
   ],
   "source": [
    "# QUESTION NO .9\n",
    "class Shape:\n",
    "    def area(self):\n",
    "        return 0\n",
    "\n",
    "class Circle(Shape):\n",
    "    def __init__(self, radius):\n",
    "        self.radius = radius\n",
    "\n",
    "    def area(self):\n",
    "        return 3.14159 * self.radius ** 2\n",
    "\n",
    "class Rectangle(Shape):\n",
    "    def __init__(self, width, height):\n",
    "        self.width = width\n",
    "        self.height = height\n",
    "\n",
    "    def area(self):\n",
    "        return self.width * self.height\n",
    "\n",
    "class Triangle(Shape):\n",
    "    def __init__(self, base, height):\n",
    "        self.base = base\n",
    "        self.height = height\n",
    "\n",
    "    def area(self):\n",
    "        return 0.5 * self.base * self.height\n",
    "\n",
    "# Example usage\n",
    "circle = Circle(radius=5)\n",
    "rectangle = Rectangle(width=4, height=6)\n",
    "triangle = Triangle(base=3, height=7)\n",
    "\n",
    "print(f\"Circle area: {circle.area()}\")\n",
    "print(f\"Rectangle area: {rectangle.area()}\")\n",
    "print(f\"Triangle area: {triangle.area()}\")\n"
   ]
  },
  {
   "cell_type": "code",
   "execution_count": 3,
   "id": "c7017483-5669-486a-88f0-882ceddbe44f",
   "metadata": {},
   "outputs": [
    {
     "name": "stdout",
     "output_type": "stream",
     "text": [
      "COCO says Woof\n",
      "SMOKEY says Meow\n",
      "Bessie says Moo\n"
     ]
    }
   ],
   "source": [
    "# QUESTION NO .10\n",
    "class Animal:\n",
    "    def __init__(self, name, sound):\n",
    "        self.name = name\n",
    "        self.sound = sound\n",
    "\n",
    "    def make_sound(self):\n",
    "        return f\"{self.name} says {self.sound}\"\n",
    "\n",
    "class Dog(Animal):\n",
    "    def __init__(self, name):\n",
    "        super().__init__(name, \"Woof\")\n",
    "\n",
    "class Cat(Animal):\n",
    "    def __init__(self, name):\n",
    "        super().__init__(name, \"Meow\")\n",
    "\n",
    "class Cow(Animal):\n",
    "    def __init__(self, name):\n",
    "        super().__init__(name, \"Moo\")\n",
    "\n",
    "# Example usage for animals\n",
    "dog = Dog(name=\"COCO\")\n",
    "cat = Cat(name=\"SMOKEY\")\n",
    "cow = Cow(name=\"Bessie\")\n",
    "\n",
    "print(dog.make_sound())\n",
    "print(cat.make_sound())\n",
    "print(cow.make_sound())\n"
   ]
  }
 ],
 "metadata": {
  "kernelspec": {
   "display_name": "Python 3 (ipykernel)",
   "language": "python",
   "name": "python3"
  },
  "language_info": {
   "codemirror_mode": {
    "name": "ipython",
    "version": 3
   },
   "file_extension": ".py",
   "mimetype": "text/x-python",
   "name": "python",
   "nbconvert_exporter": "python",
   "pygments_lexer": "ipython3",
   "version": "3.12.4"
  }
 },
 "nbformat": 4,
 "nbformat_minor": 5
}
